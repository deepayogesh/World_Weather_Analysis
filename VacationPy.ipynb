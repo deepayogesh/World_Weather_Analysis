{
 "cells": [
  {
   "cell_type": "markdown",
   "id": "9c14ae55",
   "metadata": {},
   "source": [
    "# Create Heatmaps for Weather Parameters"
   ]
  },
  {
   "cell_type": "code",
   "execution_count": 39,
   "id": "5344efa3",
   "metadata": {},
   "outputs": [],
   "source": [
    "import ipywidgets as widgets\n",
    "#widgets.IntSlider()"
   ]
  },
  {
   "cell_type": "code",
   "execution_count": 40,
   "id": "618292bd",
   "metadata": {},
   "outputs": [
    {
     "data": {
      "application/vnd.jupyter.widget-view+json": {
       "model_id": "7a724cd4df1f446aaf3eb118ac772f26",
       "version_major": 2,
       "version_minor": 0
      },
      "text/plain": [
       "Figure(layout=FigureLayout(height='420px'))"
      ]
     },
     "metadata": {},
     "output_type": "display_data"
    }
   ],
   "source": [
    "# Import the API key.  make sure the name written in config file and here is same \n",
    "from config import g_key\n",
    "import gmaps\n",
    "import gmaps.datasets\n",
    "\n",
    "gmaps.configure(api_key=g_key) # I used my API here\n",
    "\n",
    "fig = gmaps.figure()\n",
    "fig"
   ]
  },
  {
   "cell_type": "code",
   "execution_count": 41,
   "id": "612aab51",
   "metadata": {},
   "outputs": [],
   "source": [
    "# Import the dependencies.\n",
    "import pandas as pd\n",
    "import gmaps\n",
    "import requests\n",
    "# Import the API key.  make sure the name written in config file and here is same \n",
    "from config import g_key"
   ]
  },
  {
   "cell_type": "code",
   "execution_count": 42,
   "id": "b747bf11",
   "metadata": {},
   "outputs": [
    {
     "data": {
      "text/html": [
       "<div>\n",
       "<style scoped>\n",
       "    .dataframe tbody tr th:only-of-type {\n",
       "        vertical-align: middle;\n",
       "    }\n",
       "\n",
       "    .dataframe tbody tr th {\n",
       "        vertical-align: top;\n",
       "    }\n",
       "\n",
       "    .dataframe thead th {\n",
       "        text-align: right;\n",
       "    }\n",
       "</style>\n",
       "<table border=\"1\" class=\"dataframe\">\n",
       "  <thead>\n",
       "    <tr style=\"text-align: right;\">\n",
       "      <th></th>\n",
       "      <th>City_ID</th>\n",
       "      <th>City</th>\n",
       "      <th>Country</th>\n",
       "      <th>Date</th>\n",
       "      <th>Lat</th>\n",
       "      <th>Lng</th>\n",
       "      <th>Max Temp</th>\n",
       "      <th>Humidity</th>\n",
       "      <th>Cloudiness</th>\n",
       "      <th>Wind Speed</th>\n",
       "    </tr>\n",
       "  </thead>\n",
       "  <tbody>\n",
       "    <tr>\n",
       "      <th>0</th>\n",
       "      <td>0</td>\n",
       "      <td>Faanui</td>\n",
       "      <td>PF</td>\n",
       "      <td>2021-07-20 22:14:23</td>\n",
       "      <td>-16.4833</td>\n",
       "      <td>-151.7500</td>\n",
       "      <td>78.80</td>\n",
       "      <td>76</td>\n",
       "      <td>16</td>\n",
       "      <td>21.21</td>\n",
       "    </tr>\n",
       "    <tr>\n",
       "      <th>1</th>\n",
       "      <td>1</td>\n",
       "      <td>Punta Arenas</td>\n",
       "      <td>CL</td>\n",
       "      <td>2021-07-20 22:11:40</td>\n",
       "      <td>-53.1500</td>\n",
       "      <td>-70.9167</td>\n",
       "      <td>35.71</td>\n",
       "      <td>87</td>\n",
       "      <td>0</td>\n",
       "      <td>4.61</td>\n",
       "    </tr>\n",
       "    <tr>\n",
       "      <th>2</th>\n",
       "      <td>2</td>\n",
       "      <td>Vaini</td>\n",
       "      <td>TO</td>\n",
       "      <td>2021-07-20 22:14:23</td>\n",
       "      <td>-21.2000</td>\n",
       "      <td>-175.2000</td>\n",
       "      <td>78.96</td>\n",
       "      <td>89</td>\n",
       "      <td>40</td>\n",
       "      <td>9.22</td>\n",
       "    </tr>\n",
       "    <tr>\n",
       "      <th>3</th>\n",
       "      <td>3</td>\n",
       "      <td>Ipixuna</td>\n",
       "      <td>BR</td>\n",
       "      <td>2021-07-20 22:14:24</td>\n",
       "      <td>-1.7625</td>\n",
       "      <td>-48.8043</td>\n",
       "      <td>75.15</td>\n",
       "      <td>93</td>\n",
       "      <td>74</td>\n",
       "      <td>5.03</td>\n",
       "    </tr>\n",
       "    <tr>\n",
       "      <th>4</th>\n",
       "      <td>4</td>\n",
       "      <td>Opunake</td>\n",
       "      <td>NZ</td>\n",
       "      <td>2021-07-20 22:14:24</td>\n",
       "      <td>-39.4556</td>\n",
       "      <td>173.8583</td>\n",
       "      <td>51.33</td>\n",
       "      <td>83</td>\n",
       "      <td>88</td>\n",
       "      <td>15.99</td>\n",
       "    </tr>\n",
       "  </tbody>\n",
       "</table>\n",
       "</div>"
      ],
      "text/plain": [
       "   City_ID          City Country                 Date      Lat       Lng  \\\n",
       "0        0        Faanui      PF  2021-07-20 22:14:23 -16.4833 -151.7500   \n",
       "1        1  Punta Arenas      CL  2021-07-20 22:11:40 -53.1500  -70.9167   \n",
       "2        2         Vaini      TO  2021-07-20 22:14:23 -21.2000 -175.2000   \n",
       "3        3       Ipixuna      BR  2021-07-20 22:14:24  -1.7625  -48.8043   \n",
       "4        4       Opunake      NZ  2021-07-20 22:14:24 -39.4556  173.8583   \n",
       "\n",
       "   Max Temp  Humidity  Cloudiness  Wind Speed  \n",
       "0     78.80        76          16       21.21  \n",
       "1     35.71        87           0        4.61  \n",
       "2     78.96        89          40        9.22  \n",
       "3     75.15        93          74        5.03  \n",
       "4     51.33        83          88       15.99  "
      ]
     },
     "execution_count": 42,
     "metadata": {},
     "output_type": "execute_result"
    }
   ],
   "source": [
    "# Store the CSV you saved created in part one into a DataFrame.\n",
    "city_data_df = pd.read_csv(\"weather_data/cities.csv\")\n",
    "city_data_df.head()"
   ]
  },
  {
   "cell_type": "code",
   "execution_count": 43,
   "id": "ecf19d8e",
   "metadata": {},
   "outputs": [
    {
     "data": {
      "text/plain": [
       "City_ID         int64\n",
       "City           object\n",
       "Country        object\n",
       "Date           object\n",
       "Lat           float64\n",
       "Lng           float64\n",
       "Max Temp      float64\n",
       "Humidity        int64\n",
       "Cloudiness      int64\n",
       "Wind Speed    float64\n",
       "dtype: object"
      ]
     },
     "execution_count": 43,
     "metadata": {},
     "output_type": "execute_result"
    }
   ],
   "source": [
    "city_data_df.dtypes"
   ]
  },
  {
   "cell_type": "code",
   "execution_count": 44,
   "id": "ea7f625e",
   "metadata": {},
   "outputs": [],
   "source": [
    "# Create a Maximum Temperature Heatmap"
   ]
  },
  {
   "cell_type": "code",
   "execution_count": 45,
   "id": "ec10445e",
   "metadata": {},
   "outputs": [],
   "source": [
    "# Configure gmaps to use your Google API key.\n",
    "gmaps.configure(api_key=g_key)"
   ]
  },
  {
   "cell_type": "code",
   "execution_count": 46,
   "id": "3e0d0df8",
   "metadata": {},
   "outputs": [],
   "source": [
    "#1. locations = [latitude,longitude]\n",
    "# weights variable to some value \n",
    "# 2. temperature  = array of lenghth equal to location arrary length\n",
    "# 3. assign fig var to gmaps \n",
    "# fig = gmaps.figure()\n",
    "#4. assign heatmap layer \n",
    "#5. add heatmap Layer \n",
    "#6. call the figure to plot data "
   ]
  },
  {
   "cell_type": "code",
   "execution_count": 47,
   "id": "6416a82e",
   "metadata": {},
   "outputs": [],
   "source": [
    "# Get the maximum temperature.\n",
    "max_temp = city_data_df[\"Max Temp\"]\n",
    "temps = []\n",
    "for temp in max_temp:\n",
    "    temps.append(max(temp, 0))"
   ]
  },
  {
   "cell_type": "code",
   "execution_count": 48,
   "id": "94d7e878",
   "metadata": {},
   "outputs": [],
   "source": [
    "# using List comprehesion we can solve the same as this =   [max(temp, 0) for temp in max_temp]"
   ]
  },
  {
   "cell_type": "code",
   "execution_count": 49,
   "id": "34668314",
   "metadata": {},
   "outputs": [
    {
     "data": {
      "application/vnd.jupyter.widget-view+json": {
       "model_id": "4bf6ac8cfda3463aaae874c5446c02b8",
       "version_major": 2,
       "version_minor": 0
      },
      "text/plain": [
       "Figure(layout=FigureLayout(height='420px'))"
      ]
     },
     "metadata": {},
     "output_type": "display_data"
    }
   ],
   "source": [
    "# Heatmap of temperature\n",
    "# Get the latitude and longitude.\n",
    "locations = city_data_df[[\"Lat\", \"Lng\"]]\n",
    "# Get the maximum temperature.\n",
    "max_temp = city_data_df[\"Max Temp\"]\n",
    "# Assign the figure variable.\n",
    "fig = gmaps.figure()\n",
    "# Assign the heatmap variable.\n",
    "#heat_layer = gmaps.heatmap_layer(locations, weights=temps)\n",
    "heat_layer = gmaps.heatmap_layer(locations, weights=[max(temp, 0) for temp in max_temp])  # this another way using list comprehension methos \n",
    "\n",
    "# Add the heatmap layer.\n",
    "fig.add_layer(heat_layer)\n",
    "# Call the figure to plot the data.\n",
    "fig"
   ]
  },
  {
   "cell_type": "code",
   "execution_count": 50,
   "id": "f982e4a3",
   "metadata": {},
   "outputs": [
    {
     "data": {
      "application/vnd.jupyter.widget-view+json": {
       "model_id": "4bf6ac8cfda3463aaae874c5446c02b8",
       "version_major": 2,
       "version_minor": 0
      },
      "text/plain": [
       "Figure(layout=FigureLayout(height='420px'))"
      ]
     },
     "metadata": {},
     "output_type": "display_data"
    }
   ],
   "source": [
    "heat_layer = gmaps.heatmap_layer(locations, weights=temps, dissipating=False, max_intensity=300, point_radius=4)\n",
    "# Add the heatmap layer.\n",
    "fig.add_layer(heat_layer)\n",
    "# Call the figure to plot the data.\n",
    "fig"
   ]
  },
  {
   "cell_type": "code",
   "execution_count": 51,
   "id": "bbbbb6be",
   "metadata": {},
   "outputs": [
    {
     "data": {
      "application/vnd.jupyter.widget-view+json": {
       "model_id": "f4bc5850f7f94a17af6240004d80d3df",
       "version_major": 2,
       "version_minor": 0
      },
      "text/plain": [
       "Figure(layout=FigureLayout(height='420px'))"
      ]
     },
     "metadata": {},
     "output_type": "display_data"
    }
   ],
   "source": [
    "# Heatmap of percent humidity\n",
    "locations = city_data_df[[\"Lat\", \"Lng\"]]\n",
    "humidity = city_data_df[\"Humidity\"]\n",
    "fig = gmaps.figure(center=(30.0, 31.0), zoom_level=1.5)\n",
    "heat_layer = gmaps.heatmap_layer(locations, weights=humidity, dissipating=False, max_intensity=300, point_radius=4)\n",
    "\n",
    "fig.add_layer(heat_layer)\n",
    "# Call the figure to plot the data.\n",
    "fig"
   ]
  },
  {
   "cell_type": "code",
   "execution_count": 52,
   "id": "55bc26b9",
   "metadata": {},
   "outputs": [
    {
     "data": {
      "application/vnd.jupyter.widget-view+json": {
       "model_id": "717da5dd27124f9ab50d7f4a5debb82b",
       "version_major": 2,
       "version_minor": 0
      },
      "text/plain": [
       "Figure(layout=FigureLayout(height='420px'))"
      ]
     },
     "metadata": {},
     "output_type": "display_data"
    }
   ],
   "source": [
    "# Create a Wind Speed Heatmap\n",
    "locations = city_data_df[[\"Lat\", \"Lng\"]]\n",
    "wind = city_data_df[\"Wind Speed\"]\n",
    "fig = gmaps.figure(center=(30.0, 31.0), zoom_level=1.5)\n",
    "heat_layer = gmaps.heatmap_layer(locations, weights=wind, dissipating=False, max_intensity=300, point_radius=4)\n",
    "\n",
    "fig.add_layer(heat_layer)\n",
    "# Call the figure to plot the data.\n",
    "fig"
   ]
  },
  {
   "cell_type": "code",
   "execution_count": 53,
   "id": "864382cb",
   "metadata": {},
   "outputs": [],
   "source": [
    "# Lets create app we need to get inputs from user whant is minimum and maximum temp user with for his vacation place "
   ]
  },
  {
   "cell_type": "code",
   "execution_count": 54,
   "id": "0d1fe11e",
   "metadata": {},
   "outputs": [
    {
     "name": "stdout",
     "output_type": "stream",
     "text": [
      "What is the minimum temperature you would like for your trip? 55\n",
      "What is the maximum temperature you would like for your trip? 75\n"
     ]
    }
   ],
   "source": [
    "# Ask the customer to add a minimum and maximum temperature value.\n",
    "min_temp = float(input(\"What is the minimum temperature you would like for your trip? \"))\n",
    "max_temp = float(input(\"What is the maximum temperature you would like for your trip? \"))"
   ]
  },
  {
   "cell_type": "code",
   "execution_count": 55,
   "id": "2e324d2d",
   "metadata": {},
   "outputs": [
    {
     "data": {
      "text/html": [
       "<div>\n",
       "<style scoped>\n",
       "    .dataframe tbody tr th:only-of-type {\n",
       "        vertical-align: middle;\n",
       "    }\n",
       "\n",
       "    .dataframe tbody tr th {\n",
       "        vertical-align: top;\n",
       "    }\n",
       "\n",
       "    .dataframe thead th {\n",
       "        text-align: right;\n",
       "    }\n",
       "</style>\n",
       "<table border=\"1\" class=\"dataframe\">\n",
       "  <thead>\n",
       "    <tr style=\"text-align: right;\">\n",
       "      <th></th>\n",
       "      <th>City_ID</th>\n",
       "      <th>City</th>\n",
       "      <th>Country</th>\n",
       "      <th>Date</th>\n",
       "      <th>Lat</th>\n",
       "      <th>Lng</th>\n",
       "      <th>Max Temp</th>\n",
       "      <th>Humidity</th>\n",
       "      <th>Cloudiness</th>\n",
       "      <th>Wind Speed</th>\n",
       "    </tr>\n",
       "  </thead>\n",
       "  <tbody>\n",
       "    <tr>\n",
       "      <th>5</th>\n",
       "      <td>5</td>\n",
       "      <td>Marica</td>\n",
       "      <td>BR</td>\n",
       "      <td>2021-07-20 22:14:24</td>\n",
       "      <td>-22.9194</td>\n",
       "      <td>-42.8186</td>\n",
       "      <td>64.35</td>\n",
       "      <td>64</td>\n",
       "      <td>66</td>\n",
       "      <td>4.59</td>\n",
       "    </tr>\n",
       "    <tr>\n",
       "      <th>8</th>\n",
       "      <td>8</td>\n",
       "      <td>Caravelas</td>\n",
       "      <td>BR</td>\n",
       "      <td>2021-07-20 22:14:25</td>\n",
       "      <td>-17.7125</td>\n",
       "      <td>-39.2481</td>\n",
       "      <td>71.01</td>\n",
       "      <td>68</td>\n",
       "      <td>100</td>\n",
       "      <td>11.70</td>\n",
       "    </tr>\n",
       "    <tr>\n",
       "      <th>10</th>\n",
       "      <td>10</td>\n",
       "      <td>Parabel</td>\n",
       "      <td>RU</td>\n",
       "      <td>2021-07-20 22:14:26</td>\n",
       "      <td>58.6978</td>\n",
       "      <td>81.4825</td>\n",
       "      <td>57.81</td>\n",
       "      <td>91</td>\n",
       "      <td>69</td>\n",
       "      <td>5.53</td>\n",
       "    </tr>\n",
       "    <tr>\n",
       "      <th>11</th>\n",
       "      <td>11</td>\n",
       "      <td>Thunder Bay</td>\n",
       "      <td>CA</td>\n",
       "      <td>2021-07-20 22:11:08</td>\n",
       "      <td>48.4001</td>\n",
       "      <td>-89.3168</td>\n",
       "      <td>74.98</td>\n",
       "      <td>40</td>\n",
       "      <td>29</td>\n",
       "      <td>7.29</td>\n",
       "    </tr>\n",
       "    <tr>\n",
       "      <th>12</th>\n",
       "      <td>12</td>\n",
       "      <td>Rikitea</td>\n",
       "      <td>PF</td>\n",
       "      <td>2021-07-20 22:14:26</td>\n",
       "      <td>-23.1203</td>\n",
       "      <td>-134.9692</td>\n",
       "      <td>71.33</td>\n",
       "      <td>65</td>\n",
       "      <td>100</td>\n",
       "      <td>25.43</td>\n",
       "    </tr>\n",
       "    <tr>\n",
       "      <th>19</th>\n",
       "      <td>19</td>\n",
       "      <td>Grand Gaube</td>\n",
       "      <td>MU</td>\n",
       "      <td>2021-07-20 22:14:29</td>\n",
       "      <td>-20.0064</td>\n",
       "      <td>57.6608</td>\n",
       "      <td>71.38</td>\n",
       "      <td>63</td>\n",
       "      <td>76</td>\n",
       "      <td>7.00</td>\n",
       "    </tr>\n",
       "    <tr>\n",
       "      <th>27</th>\n",
       "      <td>27</td>\n",
       "      <td>Cherskiy</td>\n",
       "      <td>RU</td>\n",
       "      <td>2021-07-20 22:14:32</td>\n",
       "      <td>68.7500</td>\n",
       "      <td>161.3000</td>\n",
       "      <td>62.56</td>\n",
       "      <td>41</td>\n",
       "      <td>100</td>\n",
       "      <td>5.55</td>\n",
       "    </tr>\n",
       "    <tr>\n",
       "      <th>29</th>\n",
       "      <td>29</td>\n",
       "      <td>Puerto Ayora</td>\n",
       "      <td>EC</td>\n",
       "      <td>2021-07-20 22:14:33</td>\n",
       "      <td>-0.7393</td>\n",
       "      <td>-90.3518</td>\n",
       "      <td>73.54</td>\n",
       "      <td>92</td>\n",
       "      <td>90</td>\n",
       "      <td>7.00</td>\n",
       "    </tr>\n",
       "    <tr>\n",
       "      <th>30</th>\n",
       "      <td>30</td>\n",
       "      <td>Gamba</td>\n",
       "      <td>GA</td>\n",
       "      <td>2021-07-20 22:14:33</td>\n",
       "      <td>-2.6500</td>\n",
       "      <td>10.0000</td>\n",
       "      <td>71.89</td>\n",
       "      <td>86</td>\n",
       "      <td>18</td>\n",
       "      <td>6.58</td>\n",
       "    </tr>\n",
       "    <tr>\n",
       "      <th>33</th>\n",
       "      <td>33</td>\n",
       "      <td>Montbrison</td>\n",
       "      <td>FR</td>\n",
       "      <td>2021-07-20 22:14:34</td>\n",
       "      <td>45.6667</td>\n",
       "      <td>4.0833</td>\n",
       "      <td>71.46</td>\n",
       "      <td>87</td>\n",
       "      <td>0</td>\n",
       "      <td>4.21</td>\n",
       "    </tr>\n",
       "  </tbody>\n",
       "</table>\n",
       "</div>"
      ],
      "text/plain": [
       "    City_ID          City Country                 Date      Lat       Lng  \\\n",
       "5         5        Marica      BR  2021-07-20 22:14:24 -22.9194  -42.8186   \n",
       "8         8     Caravelas      BR  2021-07-20 22:14:25 -17.7125  -39.2481   \n",
       "10       10       Parabel      RU  2021-07-20 22:14:26  58.6978   81.4825   \n",
       "11       11   Thunder Bay      CA  2021-07-20 22:11:08  48.4001  -89.3168   \n",
       "12       12       Rikitea      PF  2021-07-20 22:14:26 -23.1203 -134.9692   \n",
       "19       19   Grand Gaube      MU  2021-07-20 22:14:29 -20.0064   57.6608   \n",
       "27       27      Cherskiy      RU  2021-07-20 22:14:32  68.7500  161.3000   \n",
       "29       29  Puerto Ayora      EC  2021-07-20 22:14:33  -0.7393  -90.3518   \n",
       "30       30         Gamba      GA  2021-07-20 22:14:33  -2.6500   10.0000   \n",
       "33       33    Montbrison      FR  2021-07-20 22:14:34  45.6667    4.0833   \n",
       "\n",
       "    Max Temp  Humidity  Cloudiness  Wind Speed  \n",
       "5      64.35        64          66        4.59  \n",
       "8      71.01        68         100       11.70  \n",
       "10     57.81        91          69        5.53  \n",
       "11     74.98        40          29        7.29  \n",
       "12     71.33        65         100       25.43  \n",
       "19     71.38        63          76        7.00  \n",
       "27     62.56        41         100        5.55  \n",
       "29     73.54        92          90        7.00  \n",
       "30     71.89        86          18        6.58  \n",
       "33     71.46        87           0        4.21  "
      ]
     },
     "execution_count": 55,
     "metadata": {},
     "output_type": "execute_result"
    }
   ],
   "source": [
    "# Filter the dataset to find the cities that fit the criteria.\n",
    "preferred_cities_df = city_data_df.loc[(city_data_df[\"Max Temp\"] <= max_temp) & \\\n",
    "                                       (city_data_df[\"Max Temp\"] >= min_temp)]\n",
    "preferred_cities_df.head(10)"
   ]
  },
  {
   "cell_type": "code",
   "execution_count": 56,
   "id": "0f212012",
   "metadata": {},
   "outputs": [
    {
     "data": {
      "text/plain": [
       "City_ID       213\n",
       "City          213\n",
       "Country       211\n",
       "Date          213\n",
       "Lat           213\n",
       "Lng           213\n",
       "Max Temp      213\n",
       "Humidity      213\n",
       "Cloudiness    213\n",
       "Wind Speed    213\n",
       "dtype: int64"
      ]
     },
     "execution_count": 56,
     "metadata": {},
     "output_type": "execute_result"
    }
   ],
   "source": [
    "preferred_cities_df.count()"
   ]
  },
  {
   "cell_type": "code",
   "execution_count": 57,
   "id": "4f62896d",
   "metadata": {},
   "outputs": [
    {
     "data": {
      "text/plain": [
       "City_ID       0\n",
       "City          0\n",
       "Country       2\n",
       "Date          0\n",
       "Lat           0\n",
       "Lng           0\n",
       "Max Temp      0\n",
       "Humidity      0\n",
       "Cloudiness    0\n",
       "Wind Speed    0\n",
       "dtype: int64"
      ]
     },
     "execution_count": 57,
     "metadata": {},
     "output_type": "execute_result"
    }
   ],
   "source": [
    "preferred_cities_df.isnull().sum()"
   ]
  },
  {
   "cell_type": "code",
   "execution_count": 58,
   "id": "b13b34c6",
   "metadata": {},
   "outputs": [
    {
     "data": {
      "text/plain": [
       "City_ID       213\n",
       "City          213\n",
       "Country       211\n",
       "Date          213\n",
       "Lat           213\n",
       "Lng           213\n",
       "Max Temp      213\n",
       "Humidity      213\n",
       "Cloudiness    213\n",
       "Wind Speed    213\n",
       "dtype: int64"
      ]
     },
     "execution_count": 58,
     "metadata": {},
     "output_type": "execute_result"
    }
   ],
   "source": [
    "preferred_cities_df.notnull().sum()"
   ]
  },
  {
   "cell_type": "markdown",
   "id": "bb32dca3",
   "metadata": {},
   "source": [
    "Guidelines :\n",
    "\n",
    "Depending on the time of year and the seasons, you might have to adjust the minimum and maximum temperature to get enough cities.\n",
    "It is a good idea to keep the number of cities to fewer than 200 to make it easier to plot the markers on the heatmap.\n",
    "If you have some rows with null values, you'll need to drop them using the dropna() method at the end of your filtering statement when you are creating the new DataFrame."
   ]
  },
  {
   "cell_type": "code",
   "execution_count": 70,
   "id": "bc983d38",
   "metadata": {},
   "outputs": [
    {
     "data": {
      "text/html": [
       "<div>\n",
       "<style scoped>\n",
       "    .dataframe tbody tr th:only-of-type {\n",
       "        vertical-align: middle;\n",
       "    }\n",
       "\n",
       "    .dataframe tbody tr th {\n",
       "        vertical-align: top;\n",
       "    }\n",
       "\n",
       "    .dataframe thead th {\n",
       "        text-align: right;\n",
       "    }\n",
       "</style>\n",
       "<table border=\"1\" class=\"dataframe\">\n",
       "  <thead>\n",
       "    <tr style=\"text-align: right;\">\n",
       "      <th></th>\n",
       "      <th>City</th>\n",
       "      <th>Country</th>\n",
       "      <th>Max Temp</th>\n",
       "      <th>Lat</th>\n",
       "      <th>Lng</th>\n",
       "      <th>Hotel Name</th>\n",
       "    </tr>\n",
       "  </thead>\n",
       "  <tbody>\n",
       "    <tr>\n",
       "      <th>5</th>\n",
       "      <td>Marica</td>\n",
       "      <td>BR</td>\n",
       "      <td>64.35</td>\n",
       "      <td>-22.9194</td>\n",
       "      <td>-42.8186</td>\n",
       "      <td></td>\n",
       "    </tr>\n",
       "    <tr>\n",
       "      <th>8</th>\n",
       "      <td>Caravelas</td>\n",
       "      <td>BR</td>\n",
       "      <td>71.01</td>\n",
       "      <td>-17.7125</td>\n",
       "      <td>-39.2481</td>\n",
       "      <td></td>\n",
       "    </tr>\n",
       "    <tr>\n",
       "      <th>10</th>\n",
       "      <td>Parabel</td>\n",
       "      <td>RU</td>\n",
       "      <td>57.81</td>\n",
       "      <td>58.6978</td>\n",
       "      <td>81.4825</td>\n",
       "      <td></td>\n",
       "    </tr>\n",
       "    <tr>\n",
       "      <th>11</th>\n",
       "      <td>Thunder Bay</td>\n",
       "      <td>CA</td>\n",
       "      <td>74.98</td>\n",
       "      <td>48.4001</td>\n",
       "      <td>-89.3168</td>\n",
       "      <td></td>\n",
       "    </tr>\n",
       "    <tr>\n",
       "      <th>12</th>\n",
       "      <td>Rikitea</td>\n",
       "      <td>PF</td>\n",
       "      <td>71.33</td>\n",
       "      <td>-23.1203</td>\n",
       "      <td>-134.9692</td>\n",
       "      <td></td>\n",
       "    </tr>\n",
       "    <tr>\n",
       "      <th>19</th>\n",
       "      <td>Grand Gaube</td>\n",
       "      <td>MU</td>\n",
       "      <td>71.38</td>\n",
       "      <td>-20.0064</td>\n",
       "      <td>57.6608</td>\n",
       "      <td></td>\n",
       "    </tr>\n",
       "    <tr>\n",
       "      <th>27</th>\n",
       "      <td>Cherskiy</td>\n",
       "      <td>RU</td>\n",
       "      <td>62.56</td>\n",
       "      <td>68.7500</td>\n",
       "      <td>161.3000</td>\n",
       "      <td></td>\n",
       "    </tr>\n",
       "    <tr>\n",
       "      <th>29</th>\n",
       "      <td>Puerto Ayora</td>\n",
       "      <td>EC</td>\n",
       "      <td>73.54</td>\n",
       "      <td>-0.7393</td>\n",
       "      <td>-90.3518</td>\n",
       "      <td></td>\n",
       "    </tr>\n",
       "    <tr>\n",
       "      <th>30</th>\n",
       "      <td>Gamba</td>\n",
       "      <td>GA</td>\n",
       "      <td>71.89</td>\n",
       "      <td>-2.6500</td>\n",
       "      <td>10.0000</td>\n",
       "      <td></td>\n",
       "    </tr>\n",
       "    <tr>\n",
       "      <th>33</th>\n",
       "      <td>Montbrison</td>\n",
       "      <td>FR</td>\n",
       "      <td>71.46</td>\n",
       "      <td>45.6667</td>\n",
       "      <td>4.0833</td>\n",
       "      <td></td>\n",
       "    </tr>\n",
       "  </tbody>\n",
       "</table>\n",
       "</div>"
      ],
      "text/plain": [
       "            City Country  Max Temp      Lat       Lng Hotel Name\n",
       "5         Marica      BR     64.35 -22.9194  -42.8186           \n",
       "8      Caravelas      BR     71.01 -17.7125  -39.2481           \n",
       "10       Parabel      RU     57.81  58.6978   81.4825           \n",
       "11   Thunder Bay      CA     74.98  48.4001  -89.3168           \n",
       "12       Rikitea      PF     71.33 -23.1203 -134.9692           \n",
       "19   Grand Gaube      MU     71.38 -20.0064   57.6608           \n",
       "27      Cherskiy      RU     62.56  68.7500  161.3000           \n",
       "29  Puerto Ayora      EC     73.54  -0.7393  -90.3518           \n",
       "30         Gamba      GA     71.89  -2.6500   10.0000           \n",
       "33    Montbrison      FR     71.46  45.6667    4.0833           "
      ]
     },
     "execution_count": 70,
     "metadata": {},
     "output_type": "execute_result"
    }
   ],
   "source": [
    "# make a copy preferred city df  and name as hotel_df  keep only lat, long, and max temp asd city columns \n",
    "# add new colun to hold hotel name \n",
    "# Create DataFrame called hotel_df to store hotel names along with city, country, max temp, and coordinates.\n",
    "hotel_df = preferred_cities_df[[\"City\", \"Country\", \"Max Temp\", \"Lat\", \"Lng\"]].copy()\n",
    "hotel_df[\"Hotel Name\"] = \"\"\n",
    "hotel_df.head(10)"
   ]
  },
  {
   "cell_type": "code",
   "execution_count": 71,
   "id": "2bdbf735",
   "metadata": {},
   "outputs": [],
   "source": [
    "# Using the latitude and longitude and specific parameters, use the Google Places Nearby Search request to retrieve a hotel and add it to the Hotel Name column\n",
    "#  Nearby Search requests page.\n",
    "# For our hotel search, we'll use these parameters:\n",
    "#   API key\n",
    "#   Latitude and longitude\n",
    "#   5,000-meter radius\n",
    "#   Type of place\n",
    "#  URL is provided to retrieve the JSON format of the data:\n",
    "\n",
    "#    https://maps.googleapis.com/maps/api/place/nearbysearch/json\n",
    "\n"
   ]
  },
  {
   "cell_type": "code",
   "execution_count": 74,
   "id": "ac43e55b",
   "metadata": {},
   "outputs": [
    {
     "name": "stdout",
     "output_type": "stream",
     "text": [
      "Hotel not found... skipping.\n",
      "Hotel not found... skipping.\n",
      "Hotel not found... skipping.\n",
      "Hotel not found... skipping.\n",
      "Hotel not found... skipping.\n",
      "Hotel not found... skipping.\n",
      "Hotel not found... skipping.\n",
      "Hotel not found... skipping.\n",
      "Hotel not found... skipping.\n",
      "Hotel not found... skipping.\n",
      "Hotel not found... skipping.\n",
      "Hotel not found... skipping.\n",
      "Hotel not found... skipping.\n",
      "Hotel not found... skipping.\n",
      "Hotel not found... skipping.\n",
      "Hotel not found... skipping.\n",
      "Hotel not found... skipping.\n",
      "Hotel not found... skipping.\n",
      "Hotel not found... skipping.\n",
      "Hotel not found... skipping.\n",
      "Hotel not found... skipping.\n",
      "Hotel not found... skipping.\n",
      "Hotel not found... skipping.\n",
      "Hotel not found... skipping.\n",
      "Hotel not found... skipping.\n",
      "Hotel not found... skipping.\n"
     ]
    }
   ],
   "source": [
    "# Set parameters to search for a hotel. as dictionary will hold key value pairs \n",
    "params = {\n",
    "    \"radius\": 5000,\n",
    "    \"type\": \"lodging\",\n",
    "    \"key\": g_key\n",
    "}\n",
    "# Iterate through the DataFrame.\n",
    "for index, row in hotel_df.iterrows():\n",
    "    # Get the latitude and longitude.\n",
    "    lat = row[\"Lat\"]\n",
    "    lng = row[\"Lng\"]\n",
    "\n",
    "    # Add the latitude and longitude to location key for the params dictionary.\n",
    "    params[\"location\"] = f\"{lat},{lng}\"\n",
    "\n",
    "    # Use the search term: \"lodging\" and our latitude and longitude.\n",
    "    base_url = \"https://maps.googleapis.com/maps/api/place/nearbysearch/json\"\n",
    "    # Make request and get the JSON data from the search.\n",
    "    hotels = requests.get(base_url, params=params).json()\n",
    "    # Grab the first hotel from the results and store the name.\n",
    "    try:\n",
    "         hotel_df.loc[index, \"Hotel Name\"] = hotels[\"results\"][0][\"name\"]\n",
    "    except (IndexError):\n",
    "         print(\"Hotel not found... skipping.\")\n",
    "print (\"done \")        \n"
   ]
  },
  {
   "cell_type": "code",
   "execution_count": 75,
   "id": "37691690",
   "metadata": {},
   "outputs": [
    {
     "data": {
      "text/html": [
       "<div>\n",
       "<style scoped>\n",
       "    .dataframe tbody tr th:only-of-type {\n",
       "        vertical-align: middle;\n",
       "    }\n",
       "\n",
       "    .dataframe tbody tr th {\n",
       "        vertical-align: top;\n",
       "    }\n",
       "\n",
       "    .dataframe thead th {\n",
       "        text-align: right;\n",
       "    }\n",
       "</style>\n",
       "<table border=\"1\" class=\"dataframe\">\n",
       "  <thead>\n",
       "    <tr style=\"text-align: right;\">\n",
       "      <th></th>\n",
       "      <th>City</th>\n",
       "      <th>Country</th>\n",
       "      <th>Max Temp</th>\n",
       "      <th>Lat</th>\n",
       "      <th>Lng</th>\n",
       "      <th>Hotel Name</th>\n",
       "    </tr>\n",
       "  </thead>\n",
       "  <tbody>\n",
       "    <tr>\n",
       "      <th>5</th>\n",
       "      <td>Marica</td>\n",
       "      <td>BR</td>\n",
       "      <td>64.35</td>\n",
       "      <td>-22.9194</td>\n",
       "      <td>-42.8186</td>\n",
       "      <td>Marica Hills</td>\n",
       "    </tr>\n",
       "    <tr>\n",
       "      <th>8</th>\n",
       "      <td>Caravelas</td>\n",
       "      <td>BR</td>\n",
       "      <td>71.01</td>\n",
       "      <td>-17.7125</td>\n",
       "      <td>-39.2481</td>\n",
       "      <td>Pousada dos Navegantes</td>\n",
       "    </tr>\n",
       "    <tr>\n",
       "      <th>10</th>\n",
       "      <td>Parabel</td>\n",
       "      <td>RU</td>\n",
       "      <td>57.81</td>\n",
       "      <td>58.6978</td>\n",
       "      <td>81.4825</td>\n",
       "      <td>Housing Complex Gazprom Transgaz Tomsk</td>\n",
       "    </tr>\n",
       "    <tr>\n",
       "      <th>11</th>\n",
       "      <td>Thunder Bay</td>\n",
       "      <td>CA</td>\n",
       "      <td>74.98</td>\n",
       "      <td>48.4001</td>\n",
       "      <td>-89.3168</td>\n",
       "      <td>Victoria Inn Hotel and Convention Centre</td>\n",
       "    </tr>\n",
       "    <tr>\n",
       "      <th>12</th>\n",
       "      <td>Rikitea</td>\n",
       "      <td>PF</td>\n",
       "      <td>71.33</td>\n",
       "      <td>-23.1203</td>\n",
       "      <td>-134.9692</td>\n",
       "      <td>People ThankYou</td>\n",
       "    </tr>\n",
       "    <tr>\n",
       "      <th>19</th>\n",
       "      <td>Grand Gaube</td>\n",
       "      <td>MU</td>\n",
       "      <td>71.38</td>\n",
       "      <td>-20.0064</td>\n",
       "      <td>57.6608</td>\n",
       "      <td>Veranda Paul et Virginie Hotel &amp; Spa</td>\n",
       "    </tr>\n",
       "    <tr>\n",
       "      <th>27</th>\n",
       "      <td>Cherskiy</td>\n",
       "      <td>RU</td>\n",
       "      <td>62.56</td>\n",
       "      <td>68.7500</td>\n",
       "      <td>161.3000</td>\n",
       "      <td>Gostinitsa</td>\n",
       "    </tr>\n",
       "    <tr>\n",
       "      <th>29</th>\n",
       "      <td>Puerto Ayora</td>\n",
       "      <td>EC</td>\n",
       "      <td>73.54</td>\n",
       "      <td>-0.7393</td>\n",
       "      <td>-90.3518</td>\n",
       "      <td>Finch Bay Galapagos Hotel</td>\n",
       "    </tr>\n",
       "    <tr>\n",
       "      <th>30</th>\n",
       "      <td>Gamba</td>\n",
       "      <td>GA</td>\n",
       "      <td>71.89</td>\n",
       "      <td>-2.6500</td>\n",
       "      <td>10.0000</td>\n",
       "      <td></td>\n",
       "    </tr>\n",
       "    <tr>\n",
       "      <th>33</th>\n",
       "      <td>Montbrison</td>\n",
       "      <td>FR</td>\n",
       "      <td>71.46</td>\n",
       "      <td>45.6667</td>\n",
       "      <td>4.0833</td>\n",
       "      <td>Hostellerie Del Matin Calme Hôtel à Montbrison</td>\n",
       "    </tr>\n",
       "  </tbody>\n",
       "</table>\n",
       "</div>"
      ],
      "text/plain": [
       "            City Country  Max Temp      Lat       Lng  \\\n",
       "5         Marica      BR     64.35 -22.9194  -42.8186   \n",
       "8      Caravelas      BR     71.01 -17.7125  -39.2481   \n",
       "10       Parabel      RU     57.81  58.6978   81.4825   \n",
       "11   Thunder Bay      CA     74.98  48.4001  -89.3168   \n",
       "12       Rikitea      PF     71.33 -23.1203 -134.9692   \n",
       "19   Grand Gaube      MU     71.38 -20.0064   57.6608   \n",
       "27      Cherskiy      RU     62.56  68.7500  161.3000   \n",
       "29  Puerto Ayora      EC     73.54  -0.7393  -90.3518   \n",
       "30         Gamba      GA     71.89  -2.6500   10.0000   \n",
       "33    Montbrison      FR     71.46  45.6667    4.0833   \n",
       "\n",
       "                                        Hotel Name  \n",
       "5                                     Marica Hills  \n",
       "8                           Pousada dos Navegantes  \n",
       "10          Housing Complex Gazprom Transgaz Tomsk  \n",
       "11        Victoria Inn Hotel and Convention Centre  \n",
       "12                                 People ThankYou  \n",
       "19            Veranda Paul et Virginie Hotel & Spa  \n",
       "27                                      Gostinitsa  \n",
       "29                       Finch Bay Galapagos Hotel  \n",
       "30                                                  \n",
       "33  Hostellerie Del Matin Calme Hôtel à Montbrison  "
      ]
     },
     "execution_count": 75,
     "metadata": {},
     "output_type": "execute_result"
    }
   ],
   "source": [
    "hotel_df.head(10)"
   ]
  },
  {
   "cell_type": "code",
   "execution_count": 76,
   "id": "82b19f0a",
   "metadata": {},
   "outputs": [
    {
     "data": {
      "application/vnd.jupyter.widget-view+json": {
       "model_id": "efdf1883b5064312b7024a65392f5fa0",
       "version_major": 2,
       "version_minor": 0
      },
      "text/plain": [
       "Figure(layout=FigureLayout(height='420px'))"
      ]
     },
     "metadata": {},
     "output_type": "display_data"
    }
   ],
   "source": [
    "# Add a heatmap of temperature for the vacation spots.\n",
    "locations = hotel_df[[\"Lat\", \"Lng\"]]\n",
    "max_temp = hotel_df[\"Max Temp\"]\n",
    "fig = gmaps.figure(center=(30.0, 31.0), zoom_level=1.5)\n",
    "heat_layer = gmaps.heatmap_layer(locations, weights=max_temp, dissipating=False,\n",
    "             max_intensity=300, point_radius=4)\n",
    "\n",
    "fig.add_layer(heat_layer)\n",
    "# Call the figure to plot the data.\n",
    "fig"
   ]
  },
  {
   "cell_type": "code",
   "execution_count": 77,
   "id": "b31ba6b9",
   "metadata": {},
   "outputs": [
    {
     "data": {
      "application/vnd.jupyter.widget-view+json": {
       "model_id": "6f54a829c45c4cb0b565e238780cedef",
       "version_major": 2,
       "version_minor": 0
      },
      "text/plain": [
       "Figure(layout=FigureLayout(height='420px'))"
      ]
     },
     "metadata": {},
     "output_type": "display_data"
    }
   ],
   "source": [
    "# Add a heatmap of temperature for the vacation spots and marker for each city.\n",
    "locations = hotel_df[[\"Lat\", \"Lng\"]]\n",
    "max_temp = hotel_df[\"Max Temp\"]\n",
    "fig = gmaps.figure(center=(30.0, 31.0), zoom_level=1.5)\n",
    "heat_layer = gmaps.heatmap_layer(locations, weights=max_temp,\n",
    "             dissipating=False, max_intensity=300, point_radius=4)\n",
    "marker_layer = gmaps.marker_layer(locations)\n",
    "fig.add_layer(heat_layer)\n",
    "fig.add_layer(marker_layer)\n",
    "# Call the figure to plot the data.\n",
    "fig"
   ]
  },
  {
   "cell_type": "code",
   "execution_count": 79,
   "id": "13735dec",
   "metadata": {},
   "outputs": [],
   "source": [
    "# add info box template to the map   this is a multiline string using three quotes \n",
    "# define a variable name info_box_template  in the specific way using correct column names \n",
    "\n",
    "info_box_template = \"\"\"\n",
    "<dl>\n",
    "<dt>Hotel Name</dt><dd>{Hotel Name}</dd>\n",
    "<dt>City</dt><dd>{City}</dd>\n",
    "<dt>Country</dt><dd>{Country}</dd>\n",
    "<dt>Max Temp</dt><dd>{Max Temp} °F</dd>\n",
    "</dl>\n",
    "\"\"\"\n",
    "\n",
    "# Store the DataFrame Row.\n",
    "hotel_info = [info_box_template.format(**row) for index, row in hotel_df.iterrows()]"
   ]
  },
  {
   "cell_type": "code",
   "execution_count": 80,
   "id": "553557d6",
   "metadata": {},
   "outputs": [
    {
     "data": {
      "application/vnd.jupyter.widget-view+json": {
       "model_id": "cd4b5e0e56fe4654b46262eb57d9ec29",
       "version_major": 2,
       "version_minor": 0
      },
      "text/plain": [
       "Figure(layout=FigureLayout(height='420px'))"
      ]
     },
     "metadata": {},
     "output_type": "display_data"
    }
   ],
   "source": [
    "# Add a heatmap of temperature for the vacation spots and a pop-up marker for each city.\n",
    "locations = hotel_df[[\"Lat\", \"Lng\"]]\n",
    "max_temp = hotel_df[\"Max Temp\"]\n",
    "fig = gmaps.figure(center=(30.0, 31.0), zoom_level=1.5)\n",
    "heat_layer = gmaps.heatmap_layer(locations, weights=max_temp,dissipating=False,\n",
    "             max_intensity=300, point_radius=4)\n",
    "marker_layer = gmaps.marker_layer(locations, info_box_content=hotel_info)\n",
    "fig.add_layer(heat_layer)\n",
    "fig.add_layer(marker_layer)\n",
    "\n",
    "# Call the figure to plot the data.\n",
    "fig"
   ]
  },
  {
   "cell_type": "code",
   "execution_count": 64,
   "id": "c191d932",
   "metadata": {},
   "outputs": [
    {
     "name": "stdout",
     "output_type": "stream",
     "text": [
      "2835\n"
     ]
    }
   ],
   "source": [
    "print (6324-3489)"
   ]
  },
  {
   "cell_type": "code",
   "execution_count": 69,
   "id": "c5db16f0",
   "metadata": {},
   "outputs": [
    {
     "name": "stdout",
     "output_type": "stream",
     "text": [
      "5464\n"
     ]
    }
   ],
   "source": [
    "print (7223-1759)"
   ]
  }
 ],
 "metadata": {
  "kernelspec": {
   "display_name": "PythonData",
   "language": "python",
   "name": "pythondata"
  },
  "language_info": {
   "codemirror_mode": {
    "name": "ipython",
    "version": 3
   },
   "file_extension": ".py",
   "mimetype": "text/x-python",
   "name": "python",
   "nbconvert_exporter": "python",
   "pygments_lexer": "ipython3",
   "version": "3.7.10"
  }
 },
 "nbformat": 4,
 "nbformat_minor": 5
}
